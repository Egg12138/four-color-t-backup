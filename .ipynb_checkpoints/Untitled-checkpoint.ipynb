{
 "cells": [
  {
   "cell_type": "code",
   "execution_count": 1,
   "id": "69952be4",
   "metadata": {
    "ExecuteTime": {
     "end_time": "2021-06-28T01:12:10.309617Z",
     "start_time": "2021-06-28T01:12:09.691778Z"
    }
   },
   "outputs": [],
   "source": [
    "import matplotlib.pyplot as plt\n",
    "import networkx as nx"
   ]
  },
  {
   "cell_type": "code",
   "execution_count": 37,
   "id": "24a36995",
   "metadata": {
    "ExecuteTime": {
     "end_time": "2021-06-28T03:27:38.921470Z",
     "start_time": "2021-06-28T03:27:38.908418Z"
    }
   },
   "outputs": [
    {
     "name": "stdout",
     "output_type": "stream",
     "text": [
      "G.edges=EdgeView([(2, 1), (2, 7), (2, 8), (2, 3), (7, 5), (7, 9), (8, 6), (6, 0), (6, 5), (6, 9), (0, 4), (0, 5), (9, 4)]), G.degree=DegreeView({2: 4, 1: 1, 7: 3, 8: 2, 3: 1, 6: 4, 0: 3, 5: 3, 9: 3, 4: 2}),G.nodes=NodeView((2, 1, 7, 8, 3, 6, 0, 5, 9, 4))\n",
      "['__class__', '__contains__', '__delattr__', '__dict__', '__dir__', '__doc__', '__eq__', '__format__', '__ge__', '__getattribute__', '__getitem__', '__gt__', '__hash__', '__init__', '__init_subclass__', '__iter__', '__le__', '__len__', '__lt__', '__module__', '__ne__', '__new__', '__reduce__', '__reduce_ex__', '__repr__', '__setattr__', '__sizeof__', '__str__', '__subclasshook__', '__weakref__', '_adj', '_node', 'add_edge', 'add_edges_from', 'add_node', 'add_nodes_from', 'add_weighted_edges_from', 'adj', 'adjacency', 'adjlist_inner_dict_factory', 'adjlist_outer_dict_factory', 'clear', 'clear_edges', 'copy', 'degree', 'edge_attr_dict_factory', 'edge_subgraph', 'edges', 'get_edge_data', 'graph', 'graph_attr_dict_factory', 'has_edge', 'has_node', 'is_directed', 'is_multigraph', 'name', 'nbunch_iter', 'neighbors', 'node_attr_dict_factory', 'node_dict_factory', 'nodes', 'number_of_edges', 'number_of_nodes', 'order', 'remove_edge', 'remove_edges_from', 'remove_node', 'remove_nodes_from', 'size', 'subgraph', 'to_directed', 'to_directed_class', 'to_undirected', 'to_undirected_class', 'update']\n"
     ]
    }
   ],
   "source": [
    "before_sorted = [[2], [8, 3], [0, 4, 6, 8], [1, 9], [2, 7], \n",
    "                 [7, 8, 6], [2, 8, 5], [4, 5], [1, 5, 6, 2], [3]]\n",
    "after_sorted = [[0, 4, 6, 8], [1, 5, 6, 2], [7, 8, 6], [2, 8, 5], \n",
    "                [4, 5], [8, 3], [1, 9], [2, 7], [3], [2]]\n",
    "dealt_nodes = [(2, 1), (2, 7), (2, 8), (2, 3), (6, 0), (6, 5), (6, 8), (6, 9), (7, 2), (7, 5), (7, 9), (9, 4), (9, 7), (9, 6), (0, 4), (0, 6), (0, 5), (5, 6), (5, 0), (5, 7), (8, 2), (8, 6), (4, 0), (4, 9), (1, 2), (3, 2)]\n",
    "cmap = ['r', 'lightcyan', 'cyan', 'c', 'teal']\n",
    "color_codes = [4, 1, 2, 4, 1, 3, 1, 1, 1, 2]\n",
    "colors_previous_prder= [cmap[idx] for idx in color_codes]\n",
    "colors_fixed_order = []\n",
    "G = nx.Graph()\n",
    "G.add_edges_from(dealt_nodes)\n",
    "print(f\"{G.edges=}, {G.degree=},{G.nodes=}\")\n",
    "print(dir(G))"
   ]
  },
  {
   "cell_type": "code",
   "execution_count": 38,
   "id": "490cbad3",
   "metadata": {
    "ExecuteTime": {
     "end_time": "2021-06-28T03:27:40.962721Z",
     "start_time": "2021-06-28T03:27:40.661373Z"
    }
   },
   "outputs": [
    {
     "name": "stdout",
     "output_type": "stream",
     "text": [
      "2=>teal\n",
      "1=>lightcyan\n",
      "7=>cyan\n",
      "8=>teal\n",
      "3=>lightcyan\n",
      "6=>c\n",
      "0=>lightcyan\n",
      "5=>lightcyan\n",
      "9=>lightcyan\n",
      "4=>cyan\n"
     ]
    },
    {
     "data": {
      "image/png": "[encoded data removed]",
      "text/plain": [
       "<Figure size 432x288 with 2 Axes>"
      ]
     },
     "metadata": {},
     "output_type": "display_data"
    }
   ],
   "source": [
    "for idx, clr in zip(G.nodes, colors_previous_prder):\n",
    "    print(f\"{idx}=>{clr}\")\n",
    "plt.subplot(1, 3, 1)\n",
    "nx.draw_networkx(G, node_color=colors_previous_prder)\n",
    "plt.subplot(1, 3, 2)\n",
    "nx.draw_networkx(G, node_color=colors_previous_prder)\n",
    "plt.show()"
   ]
  },
  {
   "cell_type": "code",
   "execution_count": null,
   "id": "92c6a687",
   "metadata": {},
   "outputs": [],
   "source": []
  }
 ],
 "metadata": {
  "kernelspec": {
   "display_name": "Python 3",
   "language": "python",
   "name": "python3"
  },
  "language_info": {
   "codemirror_mode": {
    "name": "ipython",
    "version": 3
   },
   "file_extension": ".py",
   "mimetype": "text/x-python",
   "name": "python",
   "nbconvert_exporter": "python",
   "pygments_lexer": "ipython3",
   "version": "3.8.5"
  },
  "toc": {
   "base_numbering": 1,
   "nav_menu": {},
   "number_sections": true,
   "sideBar": true,
   "skip_h1_title": true,
   "title_cell": "Table of Contents",
   "title_sidebar": "Contents",
   "toc_cell": false,
   "toc_position": {},
   "toc_section_display": true,
   "toc_window_display": false
  },
  "varInspector": {
   "cols": {
    "lenName": 16,
    "lenType": 16,
    "lenVar": 40
   },
   "kernels_config": {
    "python": {
     "delete_cmd_postfix": "",
     "delete_cmd_prefix": "del ",
     "library": "var_list.py",
     "varRefreshCmd": "print(var_dic_list())"
    },
    "r": {
     "delete_cmd_postfix": ") ",
     "delete_cmd_prefix": "rm(",
     "library": "var_list.r",
     "varRefreshCmd": "cat(var_dic_list()) "
    }
   },
   "types_to_exclude": [
    "module",
    "function",
    "builtin_function_or_method",
    "instance",
    "_Feature"
   ],
   "window_display": false
  }
 },
 "nbformat": 4,
 "nbformat_minor": 5
}
