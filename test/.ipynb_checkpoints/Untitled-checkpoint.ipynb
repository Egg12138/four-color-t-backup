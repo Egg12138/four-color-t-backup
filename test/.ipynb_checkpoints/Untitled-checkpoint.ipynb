{
 "cells": [
  {
   "cell_type": "code",
   "execution_count": 13,
   "id": "2d006641",
   "metadata": {
    "ExecuteTime": {
     "end_time": "2021-06-28T03:41:35.349625Z",
     "start_time": "2021-06-28T03:41:35.338832Z"
    }
   },
   "outputs": [
    {
     "ename": "IndentationError",
     "evalue": "unindent does not match any outer indentation level (<tokenize>, line 44)",
     "output_type": "error",
     "traceback": [
      "\u001b[0;36m  File \u001b[0;32m\"<tokenize>\"\u001b[0;36m, line \u001b[0;32m44\u001b[0m\n\u001b[0;31m    for idx, clr in zip(Gnx.nodes, dealt_colors):\u001b[0m\n\u001b[0m    ^\u001b[0m\n\u001b[0;31mIndentationError\u001b[0m\u001b[0;31m:\u001b[0m unindent does not match any outer indentation level\n"
     ]
    }
   ],
   "source": [
    "\n",
    "from networkx.algorithms.centrality import degree_alg\n",
    "from algorithm.DataConverter import clear1\n",
    "from algorithm.Graph_gen import RandGenAdj\n",
    "from algorithm.Painter import *\n",
    "from collections import abc\n",
    "from Graphy import GraphByVertex, Vertex\n",
    "from numpy import random as rand\n",
    "from memory_profiler import *\n",
    "\n",
    "import matplotlib.pyplot as plt\n",
    "import cProfile\n",
    "import networkx as nx\n",
    "import numpy as np\n",
    "import sys\n",
    "\n",
    "\"\"\"\n",
    "现在已经有了一个随机生成连接情况的图\n",
    "下一步是上色。\n",
    "最后可视化就再说了吧。\n",
    "\n",
    "\"\"\"\n",
    "\n",
    "\n",
    "color_list = ['r', 'lightcyan', 'cyan', 'c', 'teal']#Enumeration...\n",
    "\n",
    "#@profile\n",
    "def main(maxVnum, maxDegNum, mode='not print'):\n",
    "\n",
    "\t#Generate Graph\n",
    "\tG = RandGenAdj(maxVnum, maxDegNum)\n",
    "\t#Paint the Graph\n",
    "\tnearFilltry(G)\n",
    "\tGcount = G.count(by='v')\n",
    "\tprint(f\"{Gcount=}\")\n",
    "\tprint(f\"{G.all_edges=}|||{G.all_colors=}\")\n",
    "\tif mode == 'print':\n",
    "\t\tprint(G)\n",
    "\t#Draw\n",
    "\tdealt_pairs, dealt_colors = clear1(G, G.all_colors)\n",
    "\tprint(f\"{G.all_edges=}\\n\\n {dealt_pairs=}\\n\\n {G.all_colors=}\\n\\n{dealt_colors=}\")\n",
    "\tGnx = nx.Graph()\n",
    "\tGnx.add_edges_from(dealt_pairs)#传入无向图库\n",
    "\tprint(Gnx.nodes)\n",
    "    for idx, clr in zip(Gnx.nodes, dealt_colors):\n",
    "        print(f\"{idx}=>{clr}\")\n",
    "\t#colors = [color_list[clr_code] for clr_code in dealt_colors]\n",
    "\tnx.draw_networkx(Gnx, node_color=dealt_colors)\n",
    "\tplt.show()\n",
    "\n",
    "\n",
    "\n",
    "\n",
    "if __name__ == '__main__':\n",
    "\t#cProfile.runctx('main(20, 3)', None, locals())\n",
    "\tmain(10, 3, sys.argv[1])\n"
   ]
  },
  {
   "cell_type": "code",
   "execution_count": null,
   "id": "854841d8",
   "metadata": {},
   "outputs": [],
   "source": []
  }
 ],
 "metadata": {
  "kernelspec": {
   "display_name": "Python 3",
   "language": "python",
   "name": "python3"
  },
  "language_info": {
   "codemirror_mode": {
    "name": "ipython",
    "version": 3
   },
   "file_extension": ".py",
   "mimetype": "text/x-python",
   "name": "python",
   "nbconvert_exporter": "python",
   "pygments_lexer": "ipython3",
   "version": "3.8.5"
  },
  "toc": {
   "base_numbering": 1,
   "nav_menu": {},
   "number_sections": true,
   "sideBar": true,
   "skip_h1_title": true,
   "title_cell": "Table of Contents",
   "title_sidebar": "Contents",
   "toc_cell": false,
   "toc_position": {},
   "toc_section_display": true,
   "toc_window_display": false
  },
  "varInspector": {
   "cols": {
    "lenName": 16,
    "lenType": 16,
    "lenVar": 40
   },
   "kernels_config": {
    "python": {
     "delete_cmd_postfix": "",
     "delete_cmd_prefix": "del ",
     "library": "var_list.py",
     "varRefreshCmd": "print(var_dic_list())"
    },
    "r": {
     "delete_cmd_postfix": ") ",
     "delete_cmd_prefix": "rm(",
     "library": "var_list.r",
     "varRefreshCmd": "cat(var_dic_list()) "
    }
   },
   "types_to_exclude": [
    "module",
    "function",
    "builtin_function_or_method",
    "instance",
    "_Feature"
   ],
   "window_display": false
  }
 },
 "nbformat": 4,
 "nbformat_minor": 5
}
